{
 "cells": [
  {
   "cell_type": "markdown",
   "id": "aa3d7a71-b4bd-41d1-aead-51c93986e15b",
   "metadata": {},
   "source": [
    "# Page 8-6 ~ Page 8-7"
   ]
  },
  {
   "cell_type": "code",
   "execution_count": 14,
   "id": "cd9206e3-e75b-4a30-adc1-68bfeff47ac1",
   "metadata": {},
   "outputs": [
    {
     "name": "stdout",
     "output_type": "stream",
     "text": [
      "f(0) = 0\n",
      "f(1) = -1\n",
      "f is balanced\n"
     ]
    }
   ],
   "source": [
    "import math\n",
    "import random\n",
    "\n",
    "def blackbox_function():\n",
    "    def f1(x):\n",
    "        return 0\n",
    "    def f2(x):\n",
    "        return 1\n",
    "    def f3(x):\n",
    "        return x\n",
    "    def f4(x):\n",
    "        return x*-1\n",
    "    \n",
    "    functions=[f1,f2,f3,f4]\n",
    "    f=functions[random.randint(0,3)]\n",
    "    return f\n",
    "\n",
    "f = blackbox_function()\n",
    "print(\"f(0) = {}\".format(f(0)))\n",
    "print(\"f(1) = {}\".format(f(1)))\n",
    "if f(0) == f(1):\n",
    "    print(\"f is constant\")\n",
    "else:\n",
    "    print(\"f is balanced\")"
   ]
  }
 ],
 "metadata": {
  "kernelspec": {
   "display_name": "Python 3 (ipykernel)",
   "language": "python",
   "name": "python3"
  },
  "language_info": {
   "codemirror_mode": {
    "name": "ipython",
    "version": 3
   },
   "file_extension": ".py",
   "mimetype": "text/x-python",
   "name": "python",
   "nbconvert_exporter": "python",
   "pygments_lexer": "ipython3",
   "version": "3.9.7"
  }
 },
 "nbformat": 4,
 "nbformat_minor": 5
}
