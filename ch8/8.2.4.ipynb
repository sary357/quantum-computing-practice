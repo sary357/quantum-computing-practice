{
 "cells": [
  {
   "cell_type": "markdown",
   "id": "f0ea60de-51e5-4225-96fc-99e7a27b65e4",
   "metadata": {},
   "source": [
    "# Page 8-21"
   ]
  },
  {
   "cell_type": "code",
   "execution_count": null,
   "id": "e140cfae-a9c8-4501-b861-39fa7603d01e",
   "metadata": {},
   "outputs": [],
   "source": [
    "from qiskit import *\n",
    "\n"
   ]
  }
 ],
 "metadata": {
  "kernelspec": {
   "display_name": "Python 3 (ipykernel)",
   "language": "python",
   "name": "python3"
  },
  "language_info": {
   "codemirror_mode": {
    "name": "ipython",
    "version": 3
   },
   "file_extension": ".py",
   "mimetype": "text/x-python",
   "name": "python",
   "nbconvert_exporter": "python",
   "pygments_lexer": "ipython3",
   "version": "3.9.7"
  }
 },
 "nbformat": 4,
 "nbformat_minor": 5
}
