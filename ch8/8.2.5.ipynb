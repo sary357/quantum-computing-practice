{
 "cells": [
  {
   "cell_type": "markdown",
   "id": "f0ea60de-51e5-4225-96fc-99e7a27b65e4",
   "metadata": {},
   "source": [
    "# Page 8-21"
   ]
  },
  {
   "cell_type": "code",
   "execution_count": 14,
   "id": "e140cfae-a9c8-4501-b861-39fa7603d01e",
   "metadata": {},
   "outputs": [],
   "source": [
    "from qiskit import *\n",
    "\n",
    "def Deutsch_Jozsa_Oracle(n, qreg, circuit, oracle_type):\n",
    "    if oracle_type == 1: # constant-0\n",
    "        circuit.id(qreg[n])\n",
    "    if oracle_type == 2: # constant-1\n",
    "        circuit.x(qreg[n])\n",
    "    if oracle_type == 3: # balanced-0\n",
    "        circuit.cx(qreg[0], qreg[n])\n",
    "    if oracle_type == 4: # balanced-1\n",
    "        for i in range(n):\n",
    "            circuit.cx(qreg[i], qreg[n])\n"
   ]
  },
  {
   "cell_type": "code",
   "execution_count": 20,
   "id": "7a76012c-f940-4bec-a087-dddcd5874a50",
   "metadata": {},
   "outputs": [],
   "source": [
    "def lets_execute (num, oracle_type):\n",
    "    q = QuantumRegister(num+1)\n",
    "    circuit = QuantumCircuit(q)\n",
    "    Deutsch_Jozsa_Oracle(num, q, circuit, oracle_type)\n",
    "    return circuit"
   ]
  },
  {
   "cell_type": "code",
   "execution_count": 21,
   "id": "539fcaf0-1cd1-4b15-9de0-7b7441ef2be8",
   "metadata": {},
   "outputs": [
    {
     "data": {
      "text/html": [
       "<pre style=\"word-wrap: normal;white-space: pre;background: #fff0;line-height: 1.1;font-family: &quot;Courier New&quot;,Courier,monospace\">            \n",
       "q12_0: ─────\n",
       "            \n",
       "q12_1: ─────\n",
       "            \n",
       "q12_2: ─────\n",
       "       ┌───┐\n",
       "q12_3: ┤ I ├\n",
       "       └───┘</pre>"
      ],
      "text/plain": [
       "            \n",
       "q12_0: ─────\n",
       "            \n",
       "q12_1: ─────\n",
       "            \n",
       "q12_2: ─────\n",
       "       ┌───┐\n",
       "q12_3: ┤ I ├\n",
       "       └───┘"
      ]
     },
     "execution_count": 21,
     "metadata": {},
     "output_type": "execute_result"
    }
   ],
   "source": [
    "# constant-0\n",
    "c=lets_execute(num=3, oracle_type=1)\n",
    "c.draw()"
   ]
  },
  {
   "cell_type": "code",
   "execution_count": 22,
   "id": "23316081-f18d-49fa-945e-f872cdc8064c",
   "metadata": {},
   "outputs": [
    {
     "data": {
      "text/html": [
       "<pre style=\"word-wrap: normal;white-space: pre;background: #fff0;line-height: 1.1;font-family: &quot;Courier New&quot;,Courier,monospace\">            \n",
       "q13_0: ─────\n",
       "            \n",
       "q13_1: ─────\n",
       "            \n",
       "q13_2: ─────\n",
       "       ┌───┐\n",
       "q13_3: ┤ X ├\n",
       "       └───┘</pre>"
      ],
      "text/plain": [
       "            \n",
       "q13_0: ─────\n",
       "            \n",
       "q13_1: ─────\n",
       "            \n",
       "q13_2: ─────\n",
       "       ┌───┐\n",
       "q13_3: ┤ X ├\n",
       "       └───┘"
      ]
     },
     "execution_count": 22,
     "metadata": {},
     "output_type": "execute_result"
    }
   ],
   "source": [
    "# constant-1\n",
    "c=c=lets_execute(num=3, oracle_type=2)\n",
    "c.draw()"
   ]
  },
  {
   "cell_type": "code",
   "execution_count": 23,
   "id": "0950ceca-d589-4b1f-9b71-2affda7e05b6",
   "metadata": {},
   "outputs": [
    {
     "data": {
      "text/html": [
       "<pre style=\"word-wrap: normal;white-space: pre;background: #fff0;line-height: 1.1;font-family: &quot;Courier New&quot;,Courier,monospace\">            \n",
       "q14_0: ──■──\n",
       "         │  \n",
       "q14_1: ──┼──\n",
       "         │  \n",
       "q14_2: ──┼──\n",
       "       ┌─┴─┐\n",
       "q14_3: ┤ X ├\n",
       "       └───┘</pre>"
      ],
      "text/plain": [
       "            \n",
       "q14_0: ──■──\n",
       "         │  \n",
       "q14_1: ──┼──\n",
       "         │  \n",
       "q14_2: ──┼──\n",
       "       ┌─┴─┐\n",
       "q14_3: ┤ X ├\n",
       "       └───┘"
      ]
     },
     "execution_count": 23,
     "metadata": {},
     "output_type": "execute_result"
    }
   ],
   "source": [
    "# balance-0\n",
    "c=lets_execute(num=3, oracle_type=3)\n",
    "c.draw()"
   ]
  },
  {
   "cell_type": "code",
   "execution_count": 24,
   "id": "f8b8c561-ba8c-444f-a58e-a8cf43e70c31",
   "metadata": {},
   "outputs": [
    {
     "data": {
      "text/html": [
       "<pre style=\"word-wrap: normal;white-space: pre;background: #fff0;line-height: 1.1;font-family: &quot;Courier New&quot;,Courier,monospace\">                      \n",
       "q15_0: ──■────────────\n",
       "         │            \n",
       "q15_1: ──┼────■───────\n",
       "         │    │       \n",
       "q15_2: ──┼────┼────■──\n",
       "       ┌─┴─┐┌─┴─┐┌─┴─┐\n",
       "q15_3: ┤ X ├┤ X ├┤ X ├\n",
       "       └───┘└───┘└───┘</pre>"
      ],
      "text/plain": [
       "                      \n",
       "q15_0: ──■────────────\n",
       "         │            \n",
       "q15_1: ──┼────■───────\n",
       "         │    │       \n",
       "q15_2: ──┼────┼────■──\n",
       "       ┌─┴─┐┌─┴─┐┌─┴─┐\n",
       "q15_3: ┤ X ├┤ X ├┤ X ├\n",
       "       └───┘└───┘└───┘"
      ]
     },
     "execution_count": 24,
     "metadata": {},
     "output_type": "execute_result"
    }
   ],
   "source": [
    "# balance-1\n",
    "c=lets_execute(num=3, oracle_type=4)\n",
    "c.draw()"
   ]
  },
  {
   "cell_type": "code",
   "execution_count": null,
   "id": "7f92f0e1-9fcd-4aa0-b4d4-082b5fdfe78c",
   "metadata": {},
   "outputs": [],
   "source": []
  }
 ],
 "metadata": {
  "kernelspec": {
   "display_name": "Python 3 (ipykernel)",
   "language": "python",
   "name": "python3"
  },
  "language_info": {
   "codemirror_mode": {
    "name": "ipython",
    "version": 3
   },
   "file_extension": ".py",
   "mimetype": "text/x-python",
   "name": "python",
   "nbconvert_exporter": "python",
   "pygments_lexer": "ipython3",
   "version": "3.9.7"
  }
 },
 "nbformat": 4,
 "nbformat_minor": 5
}
