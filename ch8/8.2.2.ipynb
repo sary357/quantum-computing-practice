{
 "cells": [
  {
   "cell_type": "markdown",
   "id": "5978c375-f63f-40f0-9a63-af5520d4b695",
   "metadata": {},
   "source": [
    "# Page 8-9 ~ Page 8-10"
   ]
  },
  {
   "cell_type": "code",
   "execution_count": 1,
   "id": "9d36d52a-aee9-4d2a-8662-161bd25082ab",
   "metadata": {},
   "outputs": [],
   "source": [
    "from qiskit import *\n",
    "def Deutsch_oracle(qreg, circuit, orable_type):\n",
    "    if orable_type == 1: # contant-0\n",
    "        # do nothing in fact\n",
    "        circuit.id(qreg[0])\n",
    "        circuit.id(qreg[1])\n",
    "        \n",
    "    if oracle_type == 2: # constant-1\n",
    "        circuit.x(qreg[1])\n",
    "    if oracle_type == 3: # identity\n",
    "        circuit.cx(qreg[0], qreg[1])\n",
    "    if oracle_type == 4:\n",
    "        circuit.x(qreg[0])\n",
    "        circuit.cx(qreg[0], qreg[1])\n",
    "        circuit.x(qreg[1])"
   ]
  },
  {
   "cell_type": "code",
   "execution_count": 3,
   "id": "998b992b-3229-4800-b84a-75ace55eeacb",
   "metadata": {},
   "outputs": [
    {
     "data": {
      "text/html": [
       "<pre style=\"word-wrap: normal;white-space: pre;background: #fff0;line-height: 1.1;font-family: &quot;Courier New&quot;,Courier,monospace\">      ┌───┐\n",
       "q1_0: ┤ I ├\n",
       "      ├───┤\n",
       "q1_1: ┤ I ├\n",
       "      └───┘</pre>"
      ],
      "text/plain": [
       "      ┌───┐\n",
       "q1_0: ┤ I ├\n",
       "      ├───┤\n",
       "q1_1: ┤ I ├\n",
       "      └───┘"
      ]
     },
     "execution_count": 3,
     "metadata": {},
     "output_type": "execute_result"
    }
   ],
   "source": [
    "q = QuantumRegister(2)\n",
    "circuit=QuantumCircuit(q)\n",
    "oracle_type=1\n",
    "Deutsch_oracle(q, circuit, oracle_type)\n",
    "circuit.draw()"
   ]
  },
  {
   "cell_type": "code",
   "execution_count": 4,
   "id": "6ec600c7-edf2-4d2c-9522-c7b5b1e308bd",
   "metadata": {},
   "outputs": [
    {
     "data": {
      "text/html": [
       "<pre style=\"word-wrap: normal;white-space: pre;background: #fff0;line-height: 1.1;font-family: &quot;Courier New&quot;,Courier,monospace\">      ┌───┐     \n",
       "q1_0: ┤ I ├─────\n",
       "      ├───┤┌───┐\n",
       "q1_1: ┤ I ├┤ X ├\n",
       "      └───┘└───┘</pre>"
      ],
      "text/plain": [
       "      ┌───┐     \n",
       "q1_0: ┤ I ├─────\n",
       "      ├───┤┌───┐\n",
       "q1_1: ┤ I ├┤ X ├\n",
       "      └───┘└───┘"
      ]
     },
     "execution_count": 4,
     "metadata": {},
     "output_type": "execute_result"
    }
   ],
   "source": [
    "oracle_type=2\n",
    "Deutsch_oracle(q, circuit, oracle_type)\n",
    "circuit.draw()"
   ]
  },
  {
   "cell_type": "code",
   "execution_count": 5,
   "id": "e898889d-928c-4704-bf65-df853487c52d",
   "metadata": {},
   "outputs": [
    {
     "data": {
      "text/html": [
       "<pre style=\"word-wrap: normal;white-space: pre;background: #fff0;line-height: 1.1;font-family: &quot;Courier New&quot;,Courier,monospace\">      ┌───┐          \n",
       "q1_0: ┤ I ├───────■──\n",
       "      ├───┤┌───┐┌─┴─┐\n",
       "q1_1: ┤ I ├┤ X ├┤ X ├\n",
       "      └───┘└───┘└───┘</pre>"
      ],
      "text/plain": [
       "      ┌───┐          \n",
       "q1_0: ┤ I ├───────■──\n",
       "      ├───┤┌───┐┌─┴─┐\n",
       "q1_1: ┤ I ├┤ X ├┤ X ├\n",
       "      └───┘└───┘└───┘"
      ]
     },
     "execution_count": 5,
     "metadata": {},
     "output_type": "execute_result"
    }
   ],
   "source": [
    "oracle_type=3\n",
    "Deutsch_oracle(q, circuit, oracle_type)\n",
    "circuit.draw()"
   ]
  },
  {
   "cell_type": "code",
   "execution_count": 6,
   "id": "faa6dd27-0cc0-476a-83ff-14f12941e6b7",
   "metadata": {},
   "outputs": [
    {
     "data": {
      "text/html": [
       "<pre style=\"word-wrap: normal;white-space: pre;background: #fff0;line-height: 1.1;font-family: &quot;Courier New&quot;,Courier,monospace\">      ┌───┐          ┌───┐          \n",
       "q1_0: ┤ I ├───────■──┤ X ├──■───────\n",
       "      ├───┤┌───┐┌─┴─┐└───┘┌─┴─┐┌───┐\n",
       "q1_1: ┤ I ├┤ X ├┤ X ├─────┤ X ├┤ X ├\n",
       "      └───┘└───┘└───┘     └───┘└───┘</pre>"
      ],
      "text/plain": [
       "      ┌───┐          ┌───┐          \n",
       "q1_0: ┤ I ├───────■──┤ X ├──■───────\n",
       "      ├───┤┌───┐┌─┴─┐└───┘┌─┴─┐┌───┐\n",
       "q1_1: ┤ I ├┤ X ├┤ X ├─────┤ X ├┤ X ├\n",
       "      └───┘└───┘└───┘     └───┘└───┘"
      ]
     },
     "execution_count": 6,
     "metadata": {},
     "output_type": "execute_result"
    }
   ],
   "source": [
    "oracle_type=4\n",
    "Deutsch_oracle(q, circuit, oracle_type)\n",
    "circuit.draw()"
   ]
  }
 ],
 "metadata": {
  "kernelspec": {
   "display_name": "Python 3 (ipykernel)",
   "language": "python",
   "name": "python3"
  },
  "language_info": {
   "codemirror_mode": {
    "name": "ipython",
    "version": 3
   },
   "file_extension": ".py",
   "mimetype": "text/x-python",
   "name": "python",
   "nbconvert_exporter": "python",
   "pygments_lexer": "ipython3",
   "version": "3.9.7"
  }
 },
 "nbformat": 4,
 "nbformat_minor": 5
}
