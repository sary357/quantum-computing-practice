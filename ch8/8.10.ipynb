{
 "cells": [
  {
   "cell_type": "code",
   "execution_count": 8,
   "id": "a0f7db22-a021-478c-a239-463d1a169ba6",
   "metadata": {},
   "outputs": [
    {
     "name": "stdout",
     "output_type": "stream",
     "text": [
      "Collecting qiskit.aqua\n",
      "  Downloading qiskit_aqua-0.9.5-py3-none-any.whl (2.1 MB)\n",
      "\u001b[K     |████████████████████████████████| 2.1 MB 2.3 MB/s eta 0:00:01\n",
      "\u001b[?25hRequirement already satisfied: h5py<3.3.0 in /Users/sary357/opt/anaconda3/lib/python3.9/site-packages (from qiskit.aqua) (3.2.1)\n",
      "Requirement already satisfied: numpy>=1.17 in /Users/sary357/opt/anaconda3/lib/python3.9/site-packages (from qiskit.aqua) (1.20.3)\n",
      "Collecting dlx<=1.0.4\n",
      "  Downloading dlx-1.0.4.tar.gz (5.5 kB)\n",
      "Collecting quandl\n",
      "  Downloading Quandl-3.7.0-py2.py3-none-any.whl (26 kB)\n",
      "Requirement already satisfied: pandas in /Users/sary357/opt/anaconda3/lib/python3.9/site-packages (from qiskit.aqua) (1.3.4)\n",
      "Requirement already satisfied: retworkx>=0.8.0 in /Users/sary357/opt/anaconda3/lib/python3.9/site-packages (from qiskit.aqua) (0.11.0)\n",
      "Requirement already satisfied: scipy>=1.4 in /Users/sary357/opt/anaconda3/lib/python3.9/site-packages (from qiskit.aqua) (1.7.1)\n",
      "Requirement already satisfied: qiskit-terra>=0.18.0 in /Users/sary357/opt/anaconda3/lib/python3.9/site-packages (from qiskit.aqua) (0.20.1)\n",
      "Requirement already satisfied: qiskit-ignis>=0.6.0 in /Users/sary357/opt/anaconda3/lib/python3.9/site-packages (from qiskit.aqua) (0.7.0)\n",
      "Requirement already satisfied: setuptools>=40.1.0 in /Users/sary357/opt/anaconda3/lib/python3.9/site-packages (from qiskit.aqua) (58.0.4)\n",
      "Collecting docplex>=2.21.207\n",
      "  Downloading docplex-2.23.222.tar.gz (610 kB)\n",
      "\u001b[K     |████████████████████████████████| 610 kB 3.3 MB/s eta 0:00:01\n",
      "\u001b[?25hCollecting yfinance>=0.1.62\n",
      "  Using cached yfinance-0.1.70-py2.py3-none-any.whl (26 kB)\n",
      "Requirement already satisfied: scikit-learn>=0.20.0 in /Users/sary357/opt/anaconda3/lib/python3.9/site-packages (from qiskit.aqua) (0.24.2)\n",
      "Collecting fastdtw<=0.3.4\n",
      "  Downloading fastdtw-0.3.4.tar.gz (133 kB)\n",
      "\u001b[K     |████████████████████████████████| 133 kB 2.7 MB/s eta 0:00:01\n",
      "\u001b[?25hRequirement already satisfied: psutil>=5 in /Users/sary357/opt/anaconda3/lib/python3.9/site-packages (from qiskit.aqua) (5.8.0)\n",
      "Requirement already satisfied: sympy>=1.3 in /Users/sary357/opt/anaconda3/lib/python3.9/site-packages (from qiskit.aqua) (1.9)\n",
      "Requirement already satisfied: six in /Users/sary357/opt/anaconda3/lib/python3.9/site-packages (from docplex>=2.21.207->qiskit.aqua) (1.16.0)\n",
      "Requirement already satisfied: python-constraint>=1.4 in /Users/sary357/opt/anaconda3/lib/python3.9/site-packages (from qiskit-terra>=0.18.0->qiskit.aqua) (1.4.0)\n",
      "Requirement already satisfied: dill>=0.3 in /Users/sary357/opt/anaconda3/lib/python3.9/site-packages (from qiskit-terra>=0.18.0->qiskit.aqua) (0.3.4)\n",
      "Requirement already satisfied: stevedore>=3.0.0 in /Users/sary357/opt/anaconda3/lib/python3.9/site-packages (from qiskit-terra>=0.18.0->qiskit.aqua) (3.5.0)\n",
      "Requirement already satisfied: tweedledum<2.0,>=1.1 in /Users/sary357/opt/anaconda3/lib/python3.9/site-packages (from qiskit-terra>=0.18.0->qiskit.aqua) (1.1.1)\n",
      "Requirement already satisfied: python-dateutil>=2.8.0 in /Users/sary357/opt/anaconda3/lib/python3.9/site-packages (from qiskit-terra>=0.18.0->qiskit.aqua) (2.8.2)\n",
      "Requirement already satisfied: symengine>=0.9 in /Users/sary357/opt/anaconda3/lib/python3.9/site-packages (from qiskit-terra>=0.18.0->qiskit.aqua) (0.9.2)\n",
      "Requirement already satisfied: ply>=3.10 in /Users/sary357/opt/anaconda3/lib/python3.9/site-packages (from qiskit-terra>=0.18.0->qiskit.aqua) (3.11)\n",
      "Requirement already satisfied: threadpoolctl>=2.0.0 in /Users/sary357/opt/anaconda3/lib/python3.9/site-packages (from scikit-learn>=0.20.0->qiskit.aqua) (2.2.0)\n",
      "Requirement already satisfied: joblib>=0.11 in /Users/sary357/opt/anaconda3/lib/python3.9/site-packages (from scikit-learn>=0.20.0->qiskit.aqua) (1.1.0)\n",
      "Requirement already satisfied: pbr!=2.1.0,>=2.0.0 in /Users/sary357/opt/anaconda3/lib/python3.9/site-packages (from stevedore>=3.0.0->qiskit-terra>=0.18.0->qiskit.aqua) (5.9.0)\n",
      "Requirement already satisfied: mpmath>=0.19 in /Users/sary357/opt/anaconda3/lib/python3.9/site-packages (from sympy>=1.3->qiskit.aqua) (1.2.1)\n",
      "Requirement already satisfied: lxml>=4.5.1 in /Users/sary357/opt/anaconda3/lib/python3.9/site-packages (from yfinance>=0.1.62->qiskit.aqua) (4.6.3)\n",
      "Requirement already satisfied: requests>=2.26 in /Users/sary357/opt/anaconda3/lib/python3.9/site-packages (from yfinance>=0.1.62->qiskit.aqua) (2.26.0)\n",
      "Collecting multitasking>=0.0.7\n",
      "  Using cached multitasking-0.0.10-py3-none-any.whl\n",
      "Requirement already satisfied: pytz>=2017.3 in /Users/sary357/opt/anaconda3/lib/python3.9/site-packages (from pandas->qiskit.aqua) (2021.3)\n",
      "Requirement already satisfied: certifi>=2017.4.17 in /Users/sary357/opt/anaconda3/lib/python3.9/site-packages (from requests>=2.26->yfinance>=0.1.62->qiskit.aqua) (2021.10.8)\n",
      "Requirement already satisfied: urllib3<1.27,>=1.21.1 in /Users/sary357/opt/anaconda3/lib/python3.9/site-packages (from requests>=2.26->yfinance>=0.1.62->qiskit.aqua) (1.26.7)\n",
      "Requirement already satisfied: idna<4,>=2.5 in /Users/sary357/opt/anaconda3/lib/python3.9/site-packages (from requests>=2.26->yfinance>=0.1.62->qiskit.aqua) (3.2)\n",
      "Requirement already satisfied: charset-normalizer~=2.0.0 in /Users/sary357/opt/anaconda3/lib/python3.9/site-packages (from requests>=2.26->yfinance>=0.1.62->qiskit.aqua) (2.0.4)\n",
      "Requirement already satisfied: inflection>=0.3.1 in /Users/sary357/opt/anaconda3/lib/python3.9/site-packages (from quandl->qiskit.aqua) (0.5.1)\n",
      "Requirement already satisfied: more-itertools in /Users/sary357/opt/anaconda3/lib/python3.9/site-packages (from quandl->qiskit.aqua) (8.10.0)\n",
      "Building wheels for collected packages: dlx, docplex, fastdtw\n",
      "  Building wheel for dlx (setup.py) ... \u001b[?25ldone\n",
      "\u001b[?25h  Created wheel for dlx: filename=dlx-1.0.4-py3-none-any.whl size=5719 sha256=1184cd4d3c7685468195b8a0b6505e9ffb52db5666b3190b9511299c60da4cee\n",
      "  Stored in directory: /Users/sary357/Library/Caches/pip/wheels/81/bd/ba/2896ffc1856e28914fcbf4d0ded1bfbb5924dad98c80ba2d5c\n",
      "  Building wheel for docplex (setup.py) ... \u001b[?25ldone\n",
      "\u001b[?25h  Created wheel for docplex: filename=docplex-2.23.222-py3-none-any.whl size=662846 sha256=b659ebfd3aa2181e945a8c460b6401d9620cf5fbce14ebe2b8678fc3a28eb18d\n",
      "  Stored in directory: /Users/sary357/Library/Caches/pip/wheels/5e/4c/27/b3b3229ab9a25a089d5c01551d7c2e7efa41462635066784a0\n",
      "  Building wheel for fastdtw (setup.py) ... \u001b[?25ldone\n",
      "\u001b[?25h  Created wheel for fastdtw: filename=fastdtw-0.3.4-cp39-cp39-macosx_10_9_x86_64.whl size=89815 sha256=38e26d1c70f20e20de0da9b953dc568183e9debd4e70e4dd9bc7dbe901ee5576\n",
      "  Stored in directory: /Users/sary357/Library/Caches/pip/wheels/1f/a1/63/bfd0fddb5bf0b59f564872e29272cee8a2de0cd745d88fede5\n",
      "Successfully built dlx docplex fastdtw\n",
      "Installing collected packages: multitasking, yfinance, quandl, fastdtw, docplex, dlx, qiskit.aqua\n",
      "Successfully installed dlx-1.0.4 docplex-2.23.222 fastdtw-0.3.4 multitasking-0.0.10 qiskit.aqua-0.9.5 quandl-3.7.0 yfinance-0.1.70\n"
     ]
    }
   ],
   "source": [
    "! pip install qiskit.aqua"
   ]
  },
  {
   "cell_type": "code",
   "execution_count": 12,
   "id": "c4529285-0adb-4893-be70-46d89afcc832",
   "metadata": {},
   "outputs": [],
   "source": [
    "from qiskit import  IBMQ\n",
    "def load_api_key(file_path=None):\n",
    "    api_key=None\n",
    "    if file_path:\n",
    "        with open(file_path, encoding = 'utf-8') as f:\n",
    "            api_key=f.read()\n",
    "    return api_key\n",
    "\n",
    "api_key_file='../ibmq_api_key.txt'\n",
    "IBMQ.save_account(load_api_key(api_key_file), overwrite=True) \n",
    "provider=IBMQ.load_account()"
   ]
  },
  {
   "cell_type": "code",
   "execution_count": 20,
   "id": "6a5fe349-c885-4b25-8f30-b6fdcf88edab",
   "metadata": {},
   "outputs": [
    {
     "name": "stdout",
     "output_type": "stream",
     "text": [
      "{'factors': [3], 'total_counts': 0, 'successful_counts': 0}\n",
      "[3]\n"
     ]
    }
   ],
   "source": [
    "from qiskit.aqua import QuantumInstance\n",
    "from qiskit.aqua.algorithms import Shor\n",
    "\n",
    "X=7\n",
    "backend = provider.get_backend('ibmq_qasm_simulator')\n",
    "factorizaion = Shor(X)\n",
    "instance = QuantumInstance(backend, shots=1, skip_qobj_validation=False)\n",
    "result_dict = factorizaion.run(instance)\n",
    "result = result_dict['factors']\n",
    "print(result_dict)\n",
    "print(result)"
   ]
  },
  {
   "cell_type": "code",
   "execution_count": null,
   "id": "c9d8a8ec-7e85-49b6-bc32-6421ffe61496",
   "metadata": {},
   "outputs": [],
   "source": []
  },
  {
   "cell_type": "code",
   "execution_count": null,
   "id": "51be37b2-9fc5-4417-acb7-aa093730cde2",
   "metadata": {},
   "outputs": [],
   "source": []
  }
 ],
 "metadata": {
  "kernelspec": {
   "display_name": "Python 3 (ipykernel)",
   "language": "python",
   "name": "python3"
  },
  "language_info": {
   "codemirror_mode": {
    "name": "ipython",
    "version": 3
   },
   "file_extension": ".py",
   "mimetype": "text/x-python",
   "name": "python",
   "nbconvert_exporter": "python",
   "pygments_lexer": "ipython3",
   "version": "3.9.7"
  }
 },
 "nbformat": 4,
 "nbformat_minor": 5
}
