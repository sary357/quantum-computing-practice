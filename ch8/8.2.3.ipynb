{
 "cells": [
  {
   "cell_type": "markdown",
   "id": "deddb0bd-24df-4687-af3b-ac942d12baba",
   "metadata": {},
   "source": [
    "# Page 8-13 ~ Page 8-14"
   ]
  },
  {
   "cell_type": "code",
   "execution_count": 7,
   "id": "e5418923-bf19-4b59-b258-9633fcc5670b",
   "metadata": {},
   "outputs": [],
   "source": [
    "from qiskit import *\n",
    "from qiskit.visualization import plot_histogram\n",
    "def Deutsch_oracle(qreg, circuit, orable_type):\n",
    "    if orable_type == 1: # contant-0\n",
    "        # do nothing in fact\n",
    "        circuit.id(qreg[0])\n",
    "        circuit.id(qreg[1])\n",
    "        \n",
    "    if oracle_type == 2: # constant-1\n",
    "        circuit.x(qreg[1])\n",
    "    if oracle_type == 3: # identity\n",
    "        circuit.cx(qreg[0], qreg[1])\n",
    "    if oracle_type == 4: # not\n",
    "        circuit.x(qreg[0]) \n",
    "        circuit.cx(qreg[0], qreg[1])\n",
    "        circuit.x(qreg[1])"
   ]
  },
  {
   "cell_type": "code",
   "execution_count": 10,
   "id": "a8d1d306-8197-4ac5-b7f7-c0b9b50e696c",
   "metadata": {},
   "outputs": [
    {
     "data": {
      "text/html": [
       "<pre style=\"word-wrap: normal;white-space: pre;background: #fff0;line-height: 1.1;font-family: &quot;Courier New&quot;,Courier,monospace\">       ┌───┐      ░ ┌───┐ ░ ┌───┐┌─┐   \n",
       "q20_0: ┤ H ├──────░─┤ I ├─░─┤ H ├┤M├───\n",
       "       ├───┤┌───┐ ░ ├───┤ ░ ├───┤└╥┘┌─┐\n",
       "q20_1: ┤ X ├┤ H ├─░─┤ I ├─░─┤ H ├─╫─┤M├\n",
       "       └───┘└───┘ ░ └───┘ ░ └───┘ ║ └╥┘\n",
       " c5: 2/═══════════════════════════╩══╩═\n",
       "                                  0  1 </pre>"
      ],
      "text/plain": [
       "       ┌───┐      ░ ┌───┐ ░ ┌───┐┌─┐   \n",
       "q20_0: ┤ H ├──────░─┤ I ├─░─┤ H ├┤M├───\n",
       "       ├───┤┌───┐ ░ ├───┤ ░ ├───┤└╥┘┌─┐\n",
       "q20_1: ┤ X ├┤ H ├─░─┤ I ├─░─┤ H ├─╫─┤M├\n",
       "       └───┘└───┘ ░ └───┘ ░ └───┘ ║ └╥┘\n",
       " c5: 2/═══════════════════════════╩══╩═\n",
       "                                  0  1 "
      ]
     },
     "execution_count": 10,
     "metadata": {},
     "output_type": "execute_result"
    }
   ],
   "source": [
    "# oracle_type = 1 => constant-0\n",
    "oracle_type=1\n",
    "q = QuantumRegister(2)\n",
    "c = ClassicalRegister(2)\n",
    "circuit = QuantumCircuit(q ,c)\n",
    "circuit.x(q[1])\n",
    "circuit.h(q)\n",
    "circuit.barrier()\n",
    "Deutsch_oracle(q , circuit, oracle_type)\n",
    "circuit.barrier()\n",
    "circuit.h(q)\n",
    "circuit.measure(q, c)\n",
    "circuit.draw()\n"
   ]
  },
  {
   "cell_type": "code",
   "execution_count": 11,
   "id": "4fc8ea4d-a740-4b0b-9d96-3d42b4616810",
   "metadata": {},
   "outputs": [
    {
     "name": "stdout",
     "output_type": "stream",
     "text": [
      "f is constant\n"
     ]
    },
    {
     "data": {
      "image/png": "[encoded data removed]",
      "text/plain": [
       "<Figure size 504x360 with 1 Axes>"
      ]
     },
     "execution_count": 11,
     "metadata": {},
     "output_type": "execute_result"
    }
   ],
   "source": [
    "simulator = Aer.get_backend('qasm_simulator')\n",
    "job=execute(circuit, simulator, shots=1)\n",
    "result=job.result()\n",
    "counts=result.get_counts()\n",
    "if list(counts.keys())[0][1] == '0':\n",
    "    print('f is constant')\n",
    "else:\n",
    "    print('f is balanced')\n",
    "    \n",
    "plot_histogram(counts)"
   ]
  },
  {
   "cell_type": "code",
   "execution_count": 12,
   "id": "4f6a7844-838a-438e-926d-c785b7d3d502",
   "metadata": {},
   "outputs": [
    {
     "data": {
      "text/html": [
       "<pre style=\"word-wrap: normal;white-space: pre;background: #fff0;line-height: 1.1;font-family: &quot;Courier New&quot;,Courier,monospace\">       ┌───┐      ░       ░ ┌───┐┌─┐   \n",
       "q36_0: ┤ H ├──────░───────░─┤ H ├┤M├───\n",
       "       ├───┤┌───┐ ░ ┌───┐ ░ ├───┤└╥┘┌─┐\n",
       "q36_1: ┤ X ├┤ H ├─░─┤ X ├─░─┤ H ├─╫─┤M├\n",
       "       └───┘└───┘ ░ └───┘ ░ └───┘ ║ └╥┘\n",
       " c6: 2/═══════════════════════════╩══╩═\n",
       "                                  0  1 </pre>"
      ],
      "text/plain": [
       "       ┌───┐      ░       ░ ┌───┐┌─┐   \n",
       "q36_0: ┤ H ├──────░───────░─┤ H ├┤M├───\n",
       "       ├───┤┌───┐ ░ ┌───┐ ░ ├───┤└╥┘┌─┐\n",
       "q36_1: ┤ X ├┤ H ├─░─┤ X ├─░─┤ H ├─╫─┤M├\n",
       "       └───┘└───┘ ░ └───┘ ░ └───┘ ║ └╥┘\n",
       " c6: 2/═══════════════════════════╩══╩═\n",
       "                                  0  1 "
      ]
     },
     "execution_count": 12,
     "metadata": {},
     "output_type": "execute_result"
    }
   ],
   "source": [
    "# oracle_type = 2 => constant-1\n",
    "oracle_type=2\n",
    "q = QuantumRegister(2)\n",
    "c = ClassicalRegister(2)\n",
    "circuit = QuantumCircuit(q ,c)\n",
    "circuit.x(q[1])\n",
    "circuit.h(q)\n",
    "circuit.barrier()\n",
    "Deutsch_oracle(q , circuit, oracle_type)\n",
    "circuit.barrier()\n",
    "circuit.h(q)\n",
    "circuit.measure(q, c)\n",
    "circuit.draw()\n"
   ]
  },
  {
   "cell_type": "code",
   "execution_count": 13,
   "id": "e72de16f-7757-4993-9774-660174ad0db2",
   "metadata": {},
   "outputs": [
    {
     "name": "stdout",
     "output_type": "stream",
     "text": [
      "f is constant\n"
     ]
    },
    {
     "data": {
      "image/png": "[encoded data removed]",
      "text/plain": [
       "<Figure size 504x360 with 1 Axes>"
      ]
     },
     "execution_count": 13,
     "metadata": {},
     "output_type": "execute_result"
    }
   ],
   "source": [
    "simulator = Aer.get_backend('qasm_simulator')\n",
    "job=execute(circuit, simulator, shots=1)\n",
    "result=job.result()\n",
    "counts=result.get_counts()\n",
    "if list(counts.keys())[0][1] == '0':\n",
    "    print('f is constant')\n",
    "else:\n",
    "    print('f is balanced')\n",
    "    \n",
    "plot_histogram(counts)"
   ]
  },
  {
   "cell_type": "code",
   "execution_count": 14,
   "id": "fc03a3e8-c1f5-4897-973f-ca4ef47fb82d",
   "metadata": {},
   "outputs": [
    {
     "data": {
      "text/html": [
       "<pre style=\"word-wrap: normal;white-space: pre;background: #fff0;line-height: 1.1;font-family: &quot;Courier New&quot;,Courier,monospace\">       ┌───┐      ░       ░ ┌───┐┌─┐   \n",
       "q53_0: ┤ H ├──────░───■───░─┤ H ├┤M├───\n",
       "       ├───┤┌───┐ ░ ┌─┴─┐ ░ ├───┤└╥┘┌─┐\n",
       "q53_1: ┤ X ├┤ H ├─░─┤ X ├─░─┤ H ├─╫─┤M├\n",
       "       └───┘└───┘ ░ └───┘ ░ └───┘ ║ └╥┘\n",
       " c7: 2/═══════════════════════════╩══╩═\n",
       "                                  0  1 </pre>"
      ],
      "text/plain": [
       "       ┌───┐      ░       ░ ┌───┐┌─┐   \n",
       "q53_0: ┤ H ├──────░───■───░─┤ H ├┤M├───\n",
       "       ├───┤┌───┐ ░ ┌─┴─┐ ░ ├───┤└╥┘┌─┐\n",
       "q53_1: ┤ X ├┤ H ├─░─┤ X ├─░─┤ H ├─╫─┤M├\n",
       "       └───┘└───┘ ░ └───┘ ░ └───┘ ║ └╥┘\n",
       " c7: 2/═══════════════════════════╩══╩═\n",
       "                                  0  1 "
      ]
     },
     "execution_count": 14,
     "metadata": {},
     "output_type": "execute_result"
    }
   ],
   "source": [
    "# oracle_type = 3 => identity\n",
    "oracle_type=3\n",
    "q = QuantumRegister(2)\n",
    "c = ClassicalRegister(2)\n",
    "circuit = QuantumCircuit(q ,c)\n",
    "circuit.x(q[1])\n",
    "circuit.h(q)\n",
    "circuit.barrier()\n",
    "Deutsch_oracle(q , circuit, oracle_type)\n",
    "circuit.barrier()\n",
    "circuit.h(q)\n",
    "circuit.measure(q, c)\n",
    "circuit.draw()"
   ]
  },
  {
   "cell_type": "code",
   "execution_count": 15,
   "id": "9c15ef5c-367c-4982-b809-2de1d91cc03d",
   "metadata": {},
   "outputs": [
    {
     "name": "stdout",
     "output_type": "stream",
     "text": [
      "f is balanced\n"
     ]
    },
    {
     "data": {
      "image/png": "[encoded data removed]",
      "text/plain": [
       "<Figure size 504x360 with 1 Axes>"
      ]
     },
     "execution_count": 15,
     "metadata": {},
     "output_type": "execute_result"
    }
   ],
   "source": [
    "simulator = Aer.get_backend('qasm_simulator')\n",
    "job=execute(circuit, simulator, shots=1)\n",
    "result=job.result()\n",
    "counts=result.get_counts()\n",
    "if list(counts.keys())[0][1] == '0':\n",
    "    print('f is constant')\n",
    "else:\n",
    "    print('f is balanced')\n",
    "    \n",
    "plot_histogram(counts)"
   ]
  },
  {
   "cell_type": "code",
   "execution_count": 16,
   "id": "8deebeba-b0b8-42e9-9d01-67a8fb171e53",
   "metadata": {},
   "outputs": [
    {
     "data": {
      "text/html": [
       "<pre style=\"word-wrap: normal;white-space: pre;background: #fff0;line-height: 1.1;font-family: &quot;Courier New&quot;,Courier,monospace\">       ┌───┐      ░ ┌───┐           ░ ┌───┐┌─┐   \n",
       "q71_0: ┤ H ├──────░─┤ X ├──■────────░─┤ H ├┤M├───\n",
       "       ├───┤┌───┐ ░ └───┘┌─┴─┐┌───┐ ░ ├───┤└╥┘┌─┐\n",
       "q71_1: ┤ X ├┤ H ├─░──────┤ X ├┤ X ├─░─┤ H ├─╫─┤M├\n",
       "       └───┘└───┘ ░      └───┘└───┘ ░ └───┘ ║ └╥┘\n",
       " c8: 2/═════════════════════════════════════╩══╩═\n",
       "                                            0  1 </pre>"
      ],
      "text/plain": [
       "       ┌───┐      ░ ┌───┐           ░ ┌───┐┌─┐   \n",
       "q71_0: ┤ H ├──────░─┤ X ├──■────────░─┤ H ├┤M├───\n",
       "       ├───┤┌───┐ ░ └───┘┌─┴─┐┌───┐ ░ ├───┤└╥┘┌─┐\n",
       "q71_1: ┤ X ├┤ H ├─░──────┤ X ├┤ X ├─░─┤ H ├─╫─┤M├\n",
       "       └───┘└───┘ ░      └───┘└───┘ ░ └───┘ ║ └╥┘\n",
       " c8: 2/═════════════════════════════════════╩══╩═\n",
       "                                            0  1 "
      ]
     },
     "execution_count": 16,
     "metadata": {},
     "output_type": "execute_result"
    }
   ],
   "source": [
    "# oracle_type = 4 => NOT\n",
    "oracle_type=4\n",
    "q = QuantumRegister(2)\n",
    "c = ClassicalRegister(2)\n",
    "circuit = QuantumCircuit(q ,c)\n",
    "circuit.x(q[1])\n",
    "circuit.h(q)\n",
    "circuit.barrier()\n",
    "Deutsch_oracle(q , circuit, oracle_type)\n",
    "circuit.barrier()\n",
    "circuit.h(q)\n",
    "circuit.measure(q, c)\n",
    "circuit.draw()"
   ]
  },
  {
   "cell_type": "code",
   "execution_count": 17,
   "id": "edb2487a-6afe-4c4b-b60c-28d9d9b138d6",
   "metadata": {},
   "outputs": [
    {
     "name": "stdout",
     "output_type": "stream",
     "text": [
      "f is balanced\n"
     ]
    },
    {
     "data": {
      "image/png": "[encoded data removed]",
      "text/plain": [
       "<Figure size 504x360 with 1 Axes>"
      ]
     },
     "execution_count": 17,
     "metadata": {},
     "output_type": "execute_result"
    }
   ],
   "source": [
    "simulator = Aer.get_backend('qasm_simulator')\n",
    "job=execute(circuit, simulator, shots=1)\n",
    "result=job.result()\n",
    "counts=result.get_counts()\n",
    "if list(counts.keys())[0][1] == '0':\n",
    "    print('f is constant')\n",
    "else:\n",
    "    print('f is balanced')\n",
    "    \n",
    "plot_histogram(counts)"
   ]
  }
 ],
 "metadata": {
  "kernelspec": {
   "display_name": "Python 3 (ipykernel)",
   "language": "python",
   "name": "python3"
  },
  "language_info": {
   "codemirror_mode": {
    "name": "ipython",
    "version": 3
   },
   "file_extension": ".py",
   "mimetype": "text/x-python",
   "name": "python",
   "nbconvert_exporter": "python",
   "pygments_lexer": "ipython3",
   "version": "3.9.7"
  }
 },
 "nbformat": 4,
 "nbformat_minor": 5
}
