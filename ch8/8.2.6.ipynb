{
 "cells": [
  {
   "cell_type": "code",
   "execution_count": 14,
   "id": "812cd5c8-061b-4344-a115-dddb66cbdc95",
   "metadata": {},
   "outputs": [
    {
     "data": {
      "text/html": [
       "<pre style=\"word-wrap: normal;white-space: pre;background: #fff0;line-height: 1.1;font-family: &quot;Courier New&quot;,Courier,monospace\">        ┌───┐      ░       ░ ┌───┐┌─┐      \n",
       "q121_0: ┤ H ├──────░───────░─┤ H ├┤M├──────\n",
       "        ├───┤      ░       ░ ├───┤└╥┘┌─┐   \n",
       "q121_1: ┤ H ├──────░───────░─┤ H ├─╫─┤M├───\n",
       "        ├───┤      ░       ░ ├───┤ ║ └╥┘┌─┐\n",
       "q121_2: ┤ H ├──────░───────░─┤ H ├─╫──╫─┤M├\n",
       "        ├───┤┌───┐ ░ ┌───┐ ░ ├───┤ ║  ║ └╥┘\n",
       "q121_3: ┤ X ├┤ H ├─░─┤ I ├─░─┤ H ├─╫──╫──╫─\n",
       "        └───┘└───┘ ░ └───┘ ░ └───┘ ║  ║  ║ \n",
       "  c6: 3/═══════════════════════════╩══╩══╩═\n",
       "                                   0  1  2 </pre>"
      ],
      "text/plain": [
       "        ┌───┐      ░       ░ ┌───┐┌─┐      \n",
       "q121_0: ┤ H ├──────░───────░─┤ H ├┤M├──────\n",
       "        ├───┤      ░       ░ ├───┤└╥┘┌─┐   \n",
       "q121_1: ┤ H ├──────░───────░─┤ H ├─╫─┤M├───\n",
       "        ├───┤      ░       ░ ├───┤ ║ └╥┘┌─┐\n",
       "q121_2: ┤ H ├──────░───────░─┤ H ├─╫──╫─┤M├\n",
       "        ├───┤┌───┐ ░ ┌───┐ ░ ├───┤ ║  ║ └╥┘\n",
       "q121_3: ┤ X ├┤ H ├─░─┤ I ├─░─┤ H ├─╫──╫──╫─\n",
       "        └───┘└───┘ ░ └───┘ ░ └───┘ ║  ║  ║ \n",
       "  c6: 3/═══════════════════════════╩══╩══╩═\n",
       "                                   0  1  2 "
      ]
     },
     "execution_count": 14,
     "metadata": {},
     "output_type": "execute_result"
    }
   ],
   "source": [
    "from qiskit import *\n",
    "\n",
    "def Deutsch_Jozsa_Oracle(n, qreg, circuit, oracle_type):\n",
    "    if oracle_type == 1: # constant-0\n",
    "        circuit.id(qreg[n])\n",
    "    if oracle_type == 2: # constant-1\n",
    "        circuit.x(qreg[n])\n",
    "    if oracle_type == 3: # balanced-0\n",
    "        circuit.cx(qreg[0], qreg[n])\n",
    "    if oracle_type == 4: # balanced-1\n",
    "        for i in range(n):\n",
    "            circuit.cx(qreg[i], qreg[n])\n",
    "n=3\n",
    "q=QuantumRegister(n+1)\n",
    "c=ClassicalRegister(n)\n",
    "circuit=QuantumCircuit(q,c)\n",
    "#for i in range(n):\n",
    "#    circuit.id(q[i])\n",
    "circuit.x(q[n])\n",
    "circuit.h(q)\n",
    "circuit.barrier()\n",
    "\n",
    "oracle_type = 1\n",
    "Deutsch_Jozsa_Oracle(n,q,circuit, oracle_type)\n",
    "circuit.barrier()\n",
    "circuit.h(q)\n",
    "for i in range(n):\n",
    "    circuit.measure(q[i], c[i])\n",
    "circuit.draw()"
   ]
  },
  {
   "cell_type": "code",
   "execution_count": 15,
   "id": "4a944168-4120-4217-95ee-fce12575e219",
   "metadata": {},
   "outputs": [
    {
     "name": "stdout",
     "output_type": "stream",
     "text": [
      "measurement = 0\n",
      "f is constant\n"
     ]
    },
    {
     "data": {
      "image/png": "[encoded data removed]",
      "text/plain": [
       "<Figure size 504x360 with 1 Axes>"
      ]
     },
     "execution_count": 15,
     "metadata": {},
     "output_type": "execute_result"
    }
   ],
   "source": [
    "simulator=Aer.get_backend('qasm_simulator')\n",
    "job=execute(circuit, simulator, shots=1)\n",
    "result=job.result()\n",
    "counts=result.get_counts()\n",
    "measurement=int(list(counts.keys())[0], 2)\n",
    "print('measurement = {}'.format(measurement))\n",
    "if measurement == 0:\n",
    "    print('f is constant')\n",
    "else:\n",
    "    print('f is balanced')\n",
    "    \n",
    "from qiskit.visualization import plot_histogram\n",
    "plot_histogram(counts)"
   ]
  },
  {
   "cell_type": "code",
   "execution_count": null,
   "id": "413063f2-a452-4a80-9c35-ce172e30130e",
   "metadata": {},
   "outputs": [],
   "source": []
  }
 ],
 "metadata": {
  "kernelspec": {
   "display_name": "Python 3 (ipykernel)",
   "language": "python",
   "name": "python3"
  },
  "language_info": {
   "codemirror_mode": {
    "name": "ipython",
    "version": 3
   },
   "file_extension": ".py",
   "mimetype": "text/x-python",
   "name": "python",
   "nbconvert_exporter": "python",
   "pygments_lexer": "ipython3",
   "version": "3.9.7"
  }
 },
 "nbformat": 4,
 "nbformat_minor": 5
}
