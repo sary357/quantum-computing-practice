{
 "cells": [
  {
   "cell_type": "markdown",
   "id": "306b8c06",
   "metadata": {},
   "source": [
    "# Prerequisites\n",
    "## Anaconda Installation\n",
    "- Download from [Anaconda](https://www.anaconda.com/products/distribution)\n",
    "- Follow the steps mentioned in [Anaconda document](https://docs.anaconda.com/anaconda/install/index.html) to install Anaconda on your desktop/laptop.\n",
    "\n",
    "## IBMQ account preparation\n",
    "- Register an account: https://quantum-computing.ibm.com/\n",
    "- Get an API key from https://quantum-computing.ibm.com/account.\n",
    "  - Search for the string `API token`.\n",
    "  - Save the token string in a file called `ibmq_api_key.txt` and put this file in the upper folder `quantum-computing-practice/` (Don't put this file in ch7).\n",
    "\n",
    "# Execute Jupyter notebook files\n",
    "## Launch Anaconda Jupyter notebook\n",
    "- Lanuch `Anaconda Navigator` (Mac OS) -> Choose `Jupter notebook`\n",
    "\n",
    "## Package installation\n",
    "- Execute `0.package_installation.ipynb` wtih Jupyter notebook.\n",
    "\n",
    "## IBMQ account logon\n",
    "- Execute `1.login_ibmq_account.ipynb` with Jupyter notebook.\n",
    "\n",
    "## Practices\n",
    "- `2.practice_gates.ipynb`: Feel free to open the rest of files with Jupyter notebook and execute it.\n",
    "\n",
    "## P.S\n",
    "- `0.package_installation.ipynb`: only need to be installed _ONCE_ after Anaconda installation. (只要在Anaconda安裝完執行一次就可以)\n",
    "- `1.login_ibmq_account.ipynb`: ensure you need to execute this file _ONCE_ before starting to practicing the files in this folder. (只要開始練習前執行一次就可以)"
   ]
  }
 ],
 "metadata": {
  "kernelspec": {
   "display_name": "Python 3 (ipykernel)",
   "language": "python",
   "name": "python3"
  },
  "language_info": {
   "codemirror_mode": {
    "name": "ipython",
    "version": 3
   },
   "file_extension": ".py",
   "mimetype": "text/x-python",
   "name": "python",
   "nbconvert_exporter": "python",
   "pygments_lexer": "ipython3",
   "version": "3.9.7"
  }
 },
 "nbformat": 4,
 "nbformat_minor": 5
}
