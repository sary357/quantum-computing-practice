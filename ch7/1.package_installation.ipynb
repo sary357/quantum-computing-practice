{
 "cells": [
  {
   "cell_type": "markdown",
   "id": "6843a76d",
   "metadata": {},
   "source": [
    "# Install qiskit\n",
    "- The following installation part only run once. "
   ]
  },
  {
   "cell_type": "code",
   "execution_count": 1,
   "id": "15da8b51",
   "metadata": {},
   "outputs": [
    {
     "name": "stdout",
     "output_type": "stream",
     "text": [
      "Requirement already satisfied: qiskit in /Users/sary357/opt/anaconda3/lib/python3.9/site-packages (0.36.1)\n",
      "Requirement already satisfied: qiskit-aer==0.10.4 in /Users/sary357/opt/anaconda3/lib/python3.9/site-packages (from qiskit) (0.10.4)\n",
      "Requirement already satisfied: qiskit-terra==0.20.1 in /Users/sary357/opt/anaconda3/lib/python3.9/site-packages (from qiskit) (0.20.1)\n",
      "Requirement already satisfied: qiskit-ibmq-provider==0.19.1 in /Users/sary357/opt/anaconda3/lib/python3.9/site-packages (from qiskit) (0.19.1)\n",
      "Requirement already satisfied: qiskit-ignis==0.7.0 in /Users/sary357/opt/anaconda3/lib/python3.9/site-packages (from qiskit) (0.7.0)\n",
      "Requirement already satisfied: scipy>=1.0 in /Users/sary357/opt/anaconda3/lib/python3.9/site-packages (from qiskit-aer==0.10.4->qiskit) (1.7.1)\n",
      "Requirement already satisfied: numpy>=1.16.3 in /Users/sary357/opt/anaconda3/lib/python3.9/site-packages (from qiskit-aer==0.10.4->qiskit) (1.20.3)\n",
      "Requirement already satisfied: requests>=2.19 in /Users/sary357/opt/anaconda3/lib/python3.9/site-packages (from qiskit-ibmq-provider==0.19.1->qiskit) (2.26.0)\n",
      "Requirement already satisfied: requests-ntlm>=1.1.0 in /Users/sary357/opt/anaconda3/lib/python3.9/site-packages (from qiskit-ibmq-provider==0.19.1->qiskit) (1.1.0)\n",
      "Requirement already satisfied: websocket-client>=1.0.1 in /Users/sary357/opt/anaconda3/lib/python3.9/site-packages (from qiskit-ibmq-provider==0.19.1->qiskit) (1.3.2)\n",
      "Requirement already satisfied: urllib3>=1.21.1 in /Users/sary357/opt/anaconda3/lib/python3.9/site-packages (from qiskit-ibmq-provider==0.19.1->qiskit) (1.26.7)\n",
      "Requirement already satisfied: websockets>=10.0 in /Users/sary357/opt/anaconda3/lib/python3.9/site-packages (from qiskit-ibmq-provider==0.19.1->qiskit) (10.3)\n",
      "Requirement already satisfied: python-dateutil>=2.8.0 in /Users/sary357/opt/anaconda3/lib/python3.9/site-packages (from qiskit-ibmq-provider==0.19.1->qiskit) (2.8.2)\n",
      "Requirement already satisfied: setuptools>=40.1.0 in /Users/sary357/opt/anaconda3/lib/python3.9/site-packages (from qiskit-ignis==0.7.0->qiskit) (58.0.4)\n",
      "Requirement already satisfied: retworkx>=0.8.0 in /Users/sary357/opt/anaconda3/lib/python3.9/site-packages (from qiskit-ignis==0.7.0->qiskit) (0.11.0)\n",
      "Requirement already satisfied: tweedledum<2.0,>=1.1 in /Users/sary357/opt/anaconda3/lib/python3.9/site-packages (from qiskit-terra==0.20.1->qiskit) (1.1.1)\n",
      "Requirement already satisfied: symengine>=0.9 in /Users/sary357/opt/anaconda3/lib/python3.9/site-packages (from qiskit-terra==0.20.1->qiskit) (0.9.2)\n",
      "Requirement already satisfied: sympy>=1.3 in /Users/sary357/opt/anaconda3/lib/python3.9/site-packages (from qiskit-terra==0.20.1->qiskit) (1.9)\n",
      "Requirement already satisfied: dill>=0.3 in /Users/sary357/opt/anaconda3/lib/python3.9/site-packages (from qiskit-terra==0.20.1->qiskit) (0.3.4)\n",
      "Requirement already satisfied: stevedore>=3.0.0 in /Users/sary357/opt/anaconda3/lib/python3.9/site-packages (from qiskit-terra==0.20.1->qiskit) (3.5.0)\n",
      "Requirement already satisfied: python-constraint>=1.4 in /Users/sary357/opt/anaconda3/lib/python3.9/site-packages (from qiskit-terra==0.20.1->qiskit) (1.4.0)\n",
      "Requirement already satisfied: psutil>=5 in /Users/sary357/opt/anaconda3/lib/python3.9/site-packages (from qiskit-terra==0.20.1->qiskit) (5.8.0)\n",
      "Requirement already satisfied: ply>=3.10 in /Users/sary357/opt/anaconda3/lib/python3.9/site-packages (from qiskit-terra==0.20.1->qiskit) (3.11)\n",
      "Requirement already satisfied: six>=1.5 in /Users/sary357/opt/anaconda3/lib/python3.9/site-packages (from python-dateutil>=2.8.0->qiskit-ibmq-provider==0.19.1->qiskit) (1.16.0)\n",
      "Requirement already satisfied: charset-normalizer~=2.0.0 in /Users/sary357/opt/anaconda3/lib/python3.9/site-packages (from requests>=2.19->qiskit-ibmq-provider==0.19.1->qiskit) (2.0.4)\n",
      "Requirement already satisfied: idna<4,>=2.5 in /Users/sary357/opt/anaconda3/lib/python3.9/site-packages (from requests>=2.19->qiskit-ibmq-provider==0.19.1->qiskit) (3.2)\n",
      "Requirement already satisfied: certifi>=2017.4.17 in /Users/sary357/opt/anaconda3/lib/python3.9/site-packages (from requests>=2.19->qiskit-ibmq-provider==0.19.1->qiskit) (2021.10.8)\n",
      "Requirement already satisfied: cryptography>=1.3 in /Users/sary357/opt/anaconda3/lib/python3.9/site-packages (from requests-ntlm>=1.1.0->qiskit-ibmq-provider==0.19.1->qiskit) (3.4.8)\n",
      "Requirement already satisfied: ntlm-auth>=1.0.2 in /Users/sary357/opt/anaconda3/lib/python3.9/site-packages (from requests-ntlm>=1.1.0->qiskit-ibmq-provider==0.19.1->qiskit) (1.5.0)\n",
      "Requirement already satisfied: cffi>=1.12 in /Users/sary357/opt/anaconda3/lib/python3.9/site-packages (from cryptography>=1.3->requests-ntlm>=1.1.0->qiskit-ibmq-provider==0.19.1->qiskit) (1.14.6)\n",
      "Requirement already satisfied: pycparser in /Users/sary357/opt/anaconda3/lib/python3.9/site-packages (from cffi>=1.12->cryptography>=1.3->requests-ntlm>=1.1.0->qiskit-ibmq-provider==0.19.1->qiskit) (2.20)\n",
      "Requirement already satisfied: pbr!=2.1.0,>=2.0.0 in /Users/sary357/opt/anaconda3/lib/python3.9/site-packages (from stevedore>=3.0.0->qiskit-terra==0.20.1->qiskit) (5.9.0)\n",
      "Requirement already satisfied: mpmath>=0.19 in /Users/sary357/opt/anaconda3/lib/python3.9/site-packages (from sympy>=1.3->qiskit-terra==0.20.1->qiskit) (1.2.1)\n"
     ]
    }
   ],
   "source": [
    "! pip install qiskit"
   ]
  },
  {
   "cell_type": "markdown",
   "id": "5a045c29",
   "metadata": {},
   "source": [
    "# Verfication: print qiskit version"
   ]
  },
  {
   "cell_type": "code",
   "execution_count": 2,
   "id": "568b82e0",
   "metadata": {},
   "outputs": [
    {
     "data": {
      "text/plain": [
       "'0.20.1'"
      ]
     },
     "execution_count": 2,
     "metadata": {},
     "output_type": "execute_result"
    }
   ],
   "source": [
    "import qiskit\n",
    "qiskit.__version__"
   ]
  }
 ],
 "metadata": {
  "kernelspec": {
   "display_name": "Python 3 (ipykernel)",
   "language": "python",
   "name": "python3"
  },
  "language_info": {
   "codemirror_mode": {
    "name": "ipython",
    "version": 3
   },
   "file_extension": ".py",
   "mimetype": "text/x-python",
   "name": "python",
   "nbconvert_exporter": "python",
   "pygments_lexer": "ipython3",
   "version": "3.9.7"
  }
 },
 "nbformat": 4,
 "nbformat_minor": 5
}
