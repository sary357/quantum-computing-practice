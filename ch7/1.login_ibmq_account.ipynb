{
 "cells": [
  {
   "cell_type": "markdown",
   "id": "70ee7b0e",
   "metadata": {},
   "source": [
    "# The following part need to be executed everytime you'd like to run ibmq quantum codes."
   ]
  },
  {
   "cell_type": "code",
   "execution_count": 1,
   "id": "ec8e4175",
   "metadata": {},
   "outputs": [],
   "source": [
    "def load_api_key(file_path=None):\n",
    "    api_key=None\n",
    "    if file_path:\n",
    "        with open(file_path, encoding = 'utf-8') as f:\n",
    "            api_key=f.read()\n",
    "    return api_key"
   ]
  },
  {
   "cell_type": "code",
   "execution_count": 2,
   "id": "f54467db",
   "metadata": {},
   "outputs": [],
   "source": [
    "from qiskit import  IBMQ\n",
    "api_key_file='../ibmq_api_key.txt'"
   ]
  },
  {
   "cell_type": "code",
   "execution_count": 3,
   "id": "5d0f7b8f",
   "metadata": {},
   "outputs": [],
   "source": [
    "IBMQ.save_account(load_api_key(api_key_file), overwrite=True) \n",
    "provider=IBMQ.load_account()"
   ]
  },
  {
   "cell_type": "markdown",
   "id": "8f3c167d",
   "metadata": {},
   "source": [
    "# How can I use?"
   ]
  },
  {
   "cell_type": "markdown",
   "id": "cbcc6787",
   "metadata": {},
   "source": [
    "Before executing your jupyter notebook, be sure to execute `1.login_ibmq_acconut.ipynb` first."
   ]
  }
 ],
 "metadata": {
  "kernelspec": {
   "display_name": "Python 3 (ipykernel)",
   "language": "python",
   "name": "python3"
  },
  "language_info": {
   "codemirror_mode": {
    "name": "ipython",
    "version": 3
   },
   "file_extension": ".py",
   "mimetype": "text/x-python",
   "name": "python",
   "nbconvert_exporter": "python",
   "pygments_lexer": "ipython3",
   "version": "3.9.7"
  }
 },
 "nbformat": 4,
 "nbformat_minor": 5
}
